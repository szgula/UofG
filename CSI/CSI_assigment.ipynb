{
  "nbformat": 4,
  "nbformat_minor": 0,
  "metadata": {
    "colab": {
      "name": "CSI_assigment.ipynb",
      "provenance": [],
      "collapsed_sections": [
        "MjCEejuYJCwF",
        "o6zDr98tHXZ8",
        "z97Q0ArRxoRE",
        "k128jep66YGp",
        "Ve4DX01u9lkq",
        "zriuJ7vDdb0t"
      ],
      "authorship_tag": "ABX9TyOubYxmrbxlmalRM4Q0SB/m",
      "include_colab_link": true
    },
    "kernelspec": {
      "name": "python3",
      "display_name": "Python 3"
    }
  },
  "cells": [
    {
      "cell_type": "markdown",
      "metadata": {
        "id": "view-in-github",
        "colab_type": "text"
      },
      "source": [
        "<a href=\"https://colab.research.google.com/github/szgula/UofG/blob/main/CSI/CSI_assigment.ipynb\" target=\"_parent\"><img src=\"https://colab.research.google.com/assets/colab-badge.svg\" alt=\"Open In Colab\"/></a>"
      ]
    },
    {
      "cell_type": "markdown",
      "metadata": {
        "id": "H_1dwoy4GoOL"
      },
      "source": [
        "# Assignment \n",
        "\n",
        "### Computational Social Intelligence\n",
        "\n",
        "By: Szymon Gula (2601553G@student.gla.ac.uk)\n",
        "\n",
        "## **First part**"
      ]
    },
    {
      "cell_type": "markdown",
      "metadata": {
        "id": "e1qTAAjVSnrt"
      },
      "source": [
        "**For each of the above questions you are expected to perform the following tasks:**\n",
        "\n",
        "* To formulate a clear research hypothesis and, correspondingly, a suitable null hypothesis;\n",
        " To select an appropriate statistical test among those that have been presented during the course;\n",
        "* To explain whether you reject the null hypothesis and, if yes, what is the confidence level.\n",
        "* To explain whether you use a two-tailed or a one-tailed test and why.\n",
        "\n",
        "\n",
        "**You have to show that you know how to calculate the statistic you use for the test (Chi Square or Student’s t**\n",
        "\n",
        "**The report must include a general description of the problem and, for each of the research questions in Section 3, the following elements:**\n",
        "* Formulation of research hypothesis and corresponding null hypothesis;\n",
        "* Description of the data, e.g., number of laughter occurrences for female and male subjects, average and\n",
        "variance of laughter length for female and male subjects, etc.;\n",
        "* Description of the approach, e.g., which test? What are the parameters (degrees of freedom,\n",
        "expectations, etc.) and what is the motivation behind every choice (why a certain test? Why a certain\n",
        "value of the parameters?);\n",
        "* Results of the hypothesis testing (can the null hypothesis be rejected? What is the confidence level?\n",
        "Etc.);\n",
        "* Explanation of the results (e.g., in case the test shows that the number of laughter events is higher for\n",
        "female subjects to a statistically significant extent, you should mention that your conclusion is that\n",
        "female subjects tend to laugh more than male ones);\n",
        "* Analysis software you have written (the code must be added in appendix);\n",
        "\n",
        "**The report should not include more than one page per each of the questions to be addressed.**\n"
      ]
    },
    {
      "cell_type": "markdown",
      "metadata": {
        "id": "MjCEejuYJCwF"
      },
      "source": [
        "### 1) Setup Environment "
      ]
    },
    {
      "cell_type": "code",
      "metadata": {
        "id": "QPmTSfKdtJw-",
        "colab": {
          "base_uri": "https://localhost:8080/"
        },
        "outputId": "68ec6506-99d3-45c8-b2dc-aa9da67c6112"
      },
      "source": [
        "import numpy as np\n",
        "import pandas as pd\n",
        "import matplotlib.pyplot as plt\n",
        " \n",
        "from scipy.stats import chisquare, ttest_ind\n",
        "from google.colab import drive\n",
        "drive.mount('/content/drive')"
      ],
      "execution_count": null,
      "outputs": [
        {
          "output_type": "stream",
          "text": [
            "Mounted at /content/drive\n"
          ],
          "name": "stdout"
        }
      ]
    },
    {
      "cell_type": "markdown",
      "metadata": {
        "id": "o6zDr98tHXZ8"
      },
      "source": [
        "### 2) Load data and pre-process it"
      ]
    },
    {
      "cell_type": "code",
      "metadata": {
        "id": "tT5XyFTKscCI"
      },
      "source": [
        "path_ = r'/content/drive/My Drive/Colab Notebooks/laughter-corpus.csv'\n",
        "data = pd.read_csv(path_)\n",
        "nr_males = 57        # number of males in the experiment\n",
        "nr_females = 63      # number of females in the experiment\n",
        "all_participants = nr_males + nr_females"
      ],
      "execution_count": null,
      "outputs": []
    },
    {
      "cell_type": "code",
      "metadata": {
        "id": "0pCth_hgtU0h",
        "colab": {
          "base_uri": "https://localhost:8080/",
          "height": 204
        },
        "outputId": "837a6ce4-c4d9-4478-c95c-bbfef517f9dd"
      },
      "source": [
        "data.head()"
      ],
      "execution_count": null,
      "outputs": [
        {
          "output_type": "execute_result",
          "data": {
            "text/html": [
              "<div>\n",
              "<style scoped>\n",
              "    .dataframe tbody tr th:only-of-type {\n",
              "        vertical-align: middle;\n",
              "    }\n",
              "\n",
              "    .dataframe tbody tr th {\n",
              "        vertical-align: top;\n",
              "    }\n",
              "\n",
              "    .dataframe thead th {\n",
              "        text-align: right;\n",
              "    }\n",
              "</style>\n",
              "<table border=\"1\" class=\"dataframe\">\n",
              "  <thead>\n",
              "    <tr style=\"text-align: right;\">\n",
              "      <th></th>\n",
              "      <th>Gender</th>\n",
              "      <th>Role</th>\n",
              "      <th>Duration</th>\n",
              "    </tr>\n",
              "  </thead>\n",
              "  <tbody>\n",
              "    <tr>\n",
              "      <th>0</th>\n",
              "      <td>Female</td>\n",
              "      <td>Caller</td>\n",
              "      <td>0.961</td>\n",
              "    </tr>\n",
              "    <tr>\n",
              "      <th>1</th>\n",
              "      <td>Male</td>\n",
              "      <td>Receiver</td>\n",
              "      <td>0.630</td>\n",
              "    </tr>\n",
              "    <tr>\n",
              "      <th>2</th>\n",
              "      <td>Female</td>\n",
              "      <td>Caller</td>\n",
              "      <td>1.268</td>\n",
              "    </tr>\n",
              "    <tr>\n",
              "      <th>3</th>\n",
              "      <td>Male</td>\n",
              "      <td>Receiver</td>\n",
              "      <td>0.146</td>\n",
              "    </tr>\n",
              "    <tr>\n",
              "      <th>4</th>\n",
              "      <td>Female</td>\n",
              "      <td>Caller</td>\n",
              "      <td>0.276</td>\n",
              "    </tr>\n",
              "  </tbody>\n",
              "</table>\n",
              "</div>"
            ],
            "text/plain": [
              "   Gender      Role  Duration\n",
              "0  Female    Caller     0.961\n",
              "1    Male  Receiver     0.630\n",
              "2  Female    Caller     1.268\n",
              "3    Male  Receiver     0.146\n",
              "4  Female    Caller     0.276"
            ]
          },
          "metadata": {
            "tags": []
          },
          "execution_count": 4
        }
      ]
    },
    {
      "cell_type": "code",
      "metadata": {
        "id": "st1kkU5tvp-x",
        "colab": {
          "base_uri": "https://localhost:8080/"
        },
        "outputId": "cbd061f6-39cc-428e-f6ac-e7b1fe9659f8"
      },
      "source": [
        "plt.subplot(311)\n",
        "plt.hist(data.Duration, label='all')\n",
        "plt.xlabel('length of laught')\n",
        "plt.ylabel('number of participants')\n",
        "\n",
        "plt.subplot(312)\n",
        "plt.hist(data[data.Gender == 'Female'].Duration, label='Females', alpha=0.5)\n",
        "plt.hist(data[data.Gender == 'Male'].Duration, label='Males', alpha=0.5)\n",
        "plt.legend()\n",
        "\n",
        "plt.subplot(313)\n",
        "plt.hist(data[data.Role == 'Receiver'].Duration, label='Receivers', alpha=0.5)\n",
        "plt.hist(data[data.Role == 'Caller'].Duration, label='Callers', alpha=0.5)\n",
        "plt.legend()"
      ],
      "execution_count": null,
      "outputs": [
        {
          "output_type": "execute_result",
          "data": {
            "text/plain": [
              "<matplotlib.legend.Legend at 0x7f2ff7d8a470>"
            ]
          },
          "metadata": {
            "tags": []
          },
          "execution_count": 4
        },
        {
          "output_type": "display_data",
          "data": {
            "image/png": "[encoded data removed]",
            "text/plain": [
              "<Figure size 432x288 with 3 Axes>"
            ]
          },
          "metadata": {
            "tags": [],
            "needs_background": "light"
          }
        }
      ]
    },
    {
      "cell_type": "markdown",
      "metadata": {
        "id": "z97Q0ArRxoRE"
      },
      "source": [
        "## 1) Is the number of laughter events higher for women than for men?"
      ]
    },
    {
      "cell_type": "markdown",
      "metadata": {
        "id": "Ga-HoyrJJOsr"
      },
      "source": [
        "To answer the question, we need to compare two groups and test if the null hypothesis can be rejected for assumed alpha (0.05).\n",
        "\n",
        "For given question the null hypothesis is: **The numbers of events for males and females are the same**\n",
        "\n",
        "One possible way to confirm or reject given null hypothesis is to use a chi-squared test. To execute the test we colect the data in following structure:\n",
        "\n",
        "\n",
        "> ||Expected Value | Measured Value\n",
        "> |---|--- | ---\n",
        "> |**Males**|$E_{all} \\frac{N_{males}}{ N_{all}} $ | $E_{males} $ \n",
        "> |**Females**|$E_{all} \\frac{N_{females}}{ N_{all}} $ | $E_{females} $ \n",
        "\n",
        ">$ \\{N_{males},  N_{females}\\}$ - number of {males, females} in experiment\n",
        "\n",
        ">$N_{all} = N_{males} + N_{females}$\n",
        "\n",
        ">$ \\{E_{males},  E_{females}\\}$ - number of laughter events for {males, females}\n",
        "\n",
        ">$E_{all} = E_{males} + E_{females}$"
      ]
    },
    {
      "cell_type": "code",
      "metadata": {
        "id": "SrDrKvuqwG7A",
        "colab": {
          "base_uri": "https://localhost:8080/"
        },
        "outputId": "fa4a196d-27e8-4d56-8e5f-be30bbf4a575"
      },
      "source": [
        "male_events, female_events = sum(data.Gender == 'Male'), sum(data.Gender == 'Female')\n",
        "all_gender_events = male_events + female_events\n",
        "print(f'male_events = {male_events}, female_events = {female_events}')\n",
        "\n",
        "normalized_gender_events = np.array([male_events, female_events]) / all_gender_events\n",
        "normalized_gender_expected = np.array([nr_males, nr_females]) / all_participants\n",
        "print(f'normalized_events = {normalized_gender_events}, normalized_expected = {normalized_gender_expected}')"
      ],
      "execution_count": null,
      "outputs": [
        {
          "output_type": "stream",
          "text": [
            "male_events = 346, female_events = 496\n",
            "normalized_events = [0.41092637 0.58907363], normalized_expected = [0.475 0.525]\n"
          ],
          "name": "stdout"
        }
      ]
    },
    {
      "cell_type": "code",
      "metadata": {
        "id": "cZOfyI0Dxhmy",
        "colab": {
          "base_uri": "https://localhost:8080/"
        },
        "outputId": "60f54a53-f691-4b6c-bf1d-5aa4fb5a1975"
      },
      "source": [
        "chisq, p_value = chisquare(normalized_gender_events, normalized_gender_expected)\n",
        "print(f'chi-square value = {chisq:.4f}, \\np_value = {p_value:.4f}, \\np_value < 0.05 = {p_value<0.05}')"
      ],
      "execution_count": null,
      "outputs": [
        {
          "output_type": "stream",
          "text": [
            "chi-square value = 0.0165, \n",
            "p_value = 0.8979, \n",
            "p_value < 0.05 = False\n"
          ],
          "name": "stdout"
        }
      ]
    },
    {
      "cell_type": "markdown",
      "metadata": {
        "id": "n2m05-nSbiKt"
      },
      "source": [
        "The Chi-sqiare test result for null hypothesis (The numbers of events for males and females are the same) are displayed aboved.\n",
        "\n",
        "**With alpha=0.05 we do not find evidence for rejecting null hypothesis**"
      ]
    },
    {
      "cell_type": "markdown",
      "metadata": {
        "id": "k128jep66YGp"
      },
      "source": [
        "## 2) Is the number of laughter events higher for callers than for receivers?"
      ]
    },
    {
      "cell_type": "markdown",
      "metadata": {
        "id": "XelPumDnd_41"
      },
      "source": [
        "To answer the question, we need to compare two groups and test if the null hypothesis can be rejected for assumed alpha (0.05).\n",
        "\n",
        "For given question the null hypothesis is: **The numbers of events for callers and receivers are the same**\n",
        "\n",
        "One possible way to confirm or reject given null hypothesis is to use a chi-squared test. To execute the test we colect the data in following structure:\n",
        "\n",
        "\n",
        "> ||Expected Value | Measured Value\n",
        "> |---|--- | ---\n",
        "> |**Callers**|$0.5*E_{roleAll} $ | $E_{Call} $ \n",
        "> |**Receivers**|$0.5*E_{roleAll} $ | $E_{Rec} $ \n",
        "\n",
        "\n",
        ">$ \\{E_{Call},  E_{Rec}\\}$ - number of laughter events for {Callers, Receivers}\n",
        "\n",
        ">$E_{roleAll} = E_{Call} + E_{Rec}$\n",
        "\n",
        "Number of degrees of freedom: (number_of_rows - 1) * (number_of_columns - 1) = 1"
      ]
    },
    {
      "cell_type": "code",
      "metadata": {
        "id": "jAJCM5-X3y_Q",
        "colab": {
          "base_uri": "https://localhost:8080/"
        },
        "outputId": "975a250f-f372-4851-c70a-a3e64277162c"
      },
      "source": [
        "receiver_events, caller_events  = sum(data.Role == 'Receiver'), sum(data.Role == 'Caller')\n",
        "all_role_events = receiver_events + caller_events\n",
        "print(f'caller_events = {caller_events}, receiver_events = {receiver_events}')\n",
        "\n",
        "normalized_role_events = np.array([caller_events, receiver_events]) / all_role_events\n",
        "normalized_role_expected = np.array([all_participants / 2, all_participants / 2]) / all_participants\n",
        "print(f'normalized_events = {normalized_role_events}, normalized_expected = {normalized_role_expected}')"
      ],
      "execution_count": null,
      "outputs": [
        {
          "output_type": "stream",
          "text": [
            "caller_events = 505, receiver_events = 337\n",
            "normalized_events = [0.59976247 0.40023753], normalized_expected = [0.5 0.5]\n"
          ],
          "name": "stdout"
        }
      ]
    },
    {
      "cell_type": "code",
      "metadata": {
        "id": "SoZt_o5g7YGH",
        "colab": {
          "base_uri": "https://localhost:8080/"
        },
        "outputId": "8d9a1932-92dc-4a81-8693-93fda93ccc5b"
      },
      "source": [
        "chisq, p_value = chisquare(normalized_role_events, normalized_role_expected)\n",
        "print(f'chi-square value = {chisq:.4f}, \\np_value = {p_value:.4f}, \\np_value < 0.05 = {p_value<0.05}')"
      ],
      "execution_count": null,
      "outputs": [
        {
          "output_type": "stream",
          "text": [
            "chi-square value = 0.0398, \n",
            "p_value = 0.8419, \n",
            "p_value < 0.05 = False\n"
          ],
          "name": "stdout"
        }
      ]
    },
    {
      "cell_type": "markdown",
      "metadata": {
        "id": "rF-8vHX_foGi"
      },
      "source": [
        "The Chi-sqiare test result for null hypothesis (The numbers of events for caller and receiver are the same) are displayed aboved.\n",
        "\n",
        "**With alpha=0.05 we do not find evidence for rejecting null hypothesis**"
      ]
    },
    {
      "cell_type": "markdown",
      "metadata": {
        "id": "Ve4DX01u9lkq"
      },
      "source": [
        "## 3) Are laughter events longer for women?"
      ]
    },
    {
      "cell_type": "markdown",
      "metadata": {
        "id": "xp2PY7SPh73e"
      },
      "source": [
        "To answer the question, we need to compare two real values and test if the null hypothesis can be rejected for assumed alpha (0.05).\n",
        "\n",
        "For given question the null hypothesis is: **The laughter events length is same for females and males**\n",
        "\n",
        "One possible way to confirm or reject given null hypothesis is to use a **t-test**, as the process real distribution is unknown. To be more specific, we need to execute **one-tailed t-test** on the measured data - as our orgin hypothesis states \"how\" two groups differ.\n",
        "\n",
        "The hypothesis is based on the comparison of two independent groups means with unknown population variance."
      ]
    },
    {
      "cell_type": "code",
      "metadata": {
        "id": "htOAHumibqtW"
      },
      "source": [
        "# TODO -> execute test to check if we can conduct the T-test\n",
        "# TODO: use one sided test"
      ],
      "execution_count": null,
      "outputs": []
    },
    {
      "cell_type": "code",
      "metadata": {
        "id": "RjcmK1j49zB4",
        "colab": {
          "base_uri": "https://localhost:8080/"
        },
        "outputId": "f895f6c9-a870-4271-b7b6-3c7fff9fe444"
      },
      "source": [
        "male_events_length = data[data.Gender == 'Male'].Duration\n",
        "m_len_mean = male_events_length.mean()\n",
        "m_len_std = male_events_length.std()\n",
        "female_events_length = data[data.Gender == 'Female'].Duration\n",
        "f_len_mean = female_events_length.mean()\n",
        "f_len_std = female_events_length.std()\n",
        "print(f'male_events_length:   mean = {m_len_mean:.4f}, std = {m_len_std:.4f} \\nfemale_events_length: mean = {f_len_mean:.4f}, std = {f_len_std:.4f}')"
      ],
      "execution_count": null,
      "outputs": [
        {
          "output_type": "stream",
          "text": [
            "male_events_length:   mean = 0.6062, std = 0.4047 \n",
            "female_events_length: mean = 0.7097, std = 0.4416\n"
          ],
          "name": "stdout"
        }
      ]
    },
    {
      "cell_type": "code",
      "metadata": {
        "id": "ftvDkL85_xvT",
        "colab": {
          "base_uri": "https://localhost:8080/"
        },
        "outputId": "c4085634-d4c5-4c49-ab46-425ea22bf28e"
      },
      "source": [
        "t_statistic, t_p_value = ttest_ind(female_events_length, male_events_length, equal_var=False)\n",
        "t_p_value = t_p_value / 2 # To get one-tailed p_values from two-tailed test\n",
        "print(f't statistics value = {t_statistic:.4f}, p-value = {t_p_value:.4f}')"
      ],
      "execution_count": null,
      "outputs": [
        {
          "output_type": "stream",
          "text": [
            "t statistics value = 3.5146, p-value = 0.0002\n"
          ],
          "name": "stdout"
        }
      ]
    },
    {
      "cell_type": "markdown",
      "metadata": {
        "id": "E2ahOte_BS9o"
      },
      "source": [
        "The one-sided t-test result for null hypothesis (The length of events for males and females are the same) are displayed aboved.\n",
        "\n",
        "**With alpha=0.05 we can reject the null hypothesis.**\n",
        "\n",
        "In other words - we can find evidence that females laugher events are longer than males (as t_statistic > 0)"
      ]
    },
    {
      "cell_type": "code",
      "metadata": {
        "id": "1HeqmvcW_8ua"
      },
      "source": [
        ""
      ],
      "execution_count": null,
      "outputs": []
    },
    {
      "cell_type": "markdown",
      "metadata": {
        "id": "zriuJ7vDdb0t"
      },
      "source": [
        "## 4) Are laughter events longer for callers?"
      ]
    },
    {
      "cell_type": "code",
      "metadata": {
        "id": "D1dWhhViebBL"
      },
      "source": [
        "# TODO: use one sided test"
      ],
      "execution_count": null,
      "outputs": []
    },
    {
      "cell_type": "code",
      "metadata": {
        "id": "8p37L2Oqdx5k",
        "colab": {
          "base_uri": "https://localhost:8080/"
        },
        "outputId": "70ce2152-839e-41cd-959a-d4cf9ead3a65"
      },
      "source": [
        "rec_events_length = data[data.Role == 'Receiver'].Duration\n",
        "r_len_mean = rec_events_length.mean()\n",
        "r_len_std = rec_events_length.std()\n",
        "call_events_length = data[data.Role == 'Caller'].Duration\n",
        "c_len_mean = call_events_length.mean()\n",
        "c_len_std = call_events_length.std()\n",
        "print(f'rec_events_length:   mean = {r_len_mean:.4f}, std = {r_len_std:.4f} \\ncall_events_length: mean = {c_len_mean:.4f}, std = {c_len_std:.4f}')"
      ],
      "execution_count": null,
      "outputs": [
        {
          "output_type": "stream",
          "text": [
            "rec_events_length:   mean = 0.5494, std = 0.3461 \n",
            "call_events_length: mean = 0.7458, std = 0.4611\n"
          ],
          "name": "stdout"
        }
      ]
    },
    {
      "cell_type": "code",
      "metadata": {
        "id": "yuQ9qr45d2nN",
        "colab": {
          "base_uri": "https://localhost:8080/"
        },
        "outputId": "755139fb-e2ae-4b7d-e912-10f8075a917b"
      },
      "source": [
        "t_statistic, t_p_value = ttest_ind(call_events_length, rec_events_length, equal_var=False)\n",
        "t_p_value = t_p_value / 2 # To get one-tailed p_values from two-tailed test\n",
        "print('The T-test result for null hypothesis (The length of events for males and females are the same):')\n",
        "print(f't statistics value = {t_statistic:.4f}, p-value = {t_p_value:.4f}')\n",
        "print('With alpha=0.05 we can reject the null hypothesis.') \n",
        "print('In other words - we can find evidence that callers laugher events are longer than recivers (as t_statistic > 0)')"
      ],
      "execution_count": null,
      "outputs": [
        {
          "output_type": "stream",
          "text": [
            "The T-test result for null hypothesis (The length of events for males and females are the same):\n",
            "t statistics value = 7.0469, p-value = 0.0000\n",
            "With alpha=0.05 we can reject the null hypothesis.\n",
            "In other words - we can find evidence that callers laugher events are longer than recivers (as t_statistic > 0)\n"
          ],
          "name": "stdout"
        }
      ]
    },
    {
      "cell_type": "code",
      "metadata": {
        "id": "TeuflB3zeRTR",
        "colab": {
          "base_uri": "https://localhost:8080/"
        },
        "outputId": "e8b52694-ed44-4340-97af-2da7a3a5aa7a"
      },
      "source": [
        "ttest_ind(rec_events_length, call_events_length, equal_var=False)"
      ],
      "execution_count": null,
      "outputs": [
        {
          "output_type": "execute_result",
          "data": {
            "text/plain": [
              "Ttest_indResult(statistic=-7.04692595020516, pvalue=3.851047008141747e-12)"
            ]
          },
          "metadata": {
            "tags": []
          },
          "execution_count": 15
        }
      ]
    },
    {
      "cell_type": "code",
      "metadata": {
        "id": "-QZAInbGNrfP"
      },
      "source": [
        ""
      ],
      "execution_count": null,
      "outputs": []
    },
    {
      "cell_type": "markdown",
      "metadata": {
        "id": "0So9bK7y_6Hr"
      },
      "source": [
        "## **Second part**"
      ]
    },
    {
      "cell_type": "markdown",
      "metadata": {
        "id": "XlSHcY44SMb5"
      },
      "source": [
        "**The report must include the following elements:**\n",
        "\n",
        "* An introduction to the problem of facial expression analysis;\n",
        "* A description of the theory underlying the Gaussian Discriminant Functions;\n",
        "* A description of the experimental setup (training and test set, etc.);\n",
        "* A description of the results;\n",
        "* The software you have written (the code must be added in appendix);\n",
        "\n",
        "The report should not include more than one page per each of the points above."
      ]
    },
    {
      "cell_type": "markdown",
      "metadata": {
        "id": "3kxLhybrFz1K"
      },
      "source": [
        "#### **Discrimination function**\n",
        "Discrimination function is called function $ \\gamma_M(x) \\rightarrow C_M $ that maps feature vector $x$ into class $C_M$.\n",
        "\n",
        "For the Bayes classifier we can write:\n",
        "\n",
        "$ \\gamma_M(x) = -R( \\beta | x) \\propto P(C_M | x) - 1 \\propto  P(C_M | x) = P(x | C_M) * P(C_M) / P(x) $\n",
        "\n",
        "*Where $ R() $ is condition risk, $\\propto$ means proportional to.*\n",
        "\n",
        "Now we can apply logarith to both side. $ \\gamma_M'(x) = ln( \\gamma_M(x)) $:\n",
        "\n",
        "$ \\gamma_M'(x) = ln[P(x | C_M) * P(C_M) / P(x)] = ln[P(x | C_M)] + ln[P(C_M)] - ln[x] \\propto ln[P(x | C_M)] + ln[P(C_M)]$\n"
      ]
    },
    {
      "cell_type": "markdown",
      "metadata": {
        "id": "uBcAMfjNKlws"
      },
      "source": [
        "#### **Gaussian Likelihood**\n",
        "\n",
        "Under assumption that P(x | C_M) has normal distribution  ($ N(\\mu_M, \\Sigma) $)we can write that:\n",
        "\n",
        "$ \\gamma_M'(x) = \n",
        "-\\frac{n*ln[2 \\pi]} { 2 }\n",
        "- \\frac{ln[\\Sigma]}{2}\n",
        "- \\frac{(x- \\mu_M)^T \\Sigma^{-1} (x- \\mu_M)} {2}\n",
        "+ ln[p(C_M)] \n",
        "$\n",
        "\n",
        "Since $n*ln[2 \\pi]$ is constants, we can simplifie $ \\gamma_M'(x)$:\n",
        "\n",
        "$ \\gamma_M''(x) = - \\frac{ln[\\Sigma]}{2} - \\frac{(x- \\mu_M)^T \\Sigma^{-1} (x- \\mu_M)} {2} + ln[p(C_M)] $.\n",
        "\n",
        "For simplicity, we assume that features are statistically independent & prior probabilities are all equal. \n",
        "\n",
        "$\\gamma_M'''(x) = - \\frac{ln[\\Sigma]}{2} - \\frac{(x- \\mu_M)^T \\Sigma^{-1} (x- \\mu_M)} {2} $\n",
        "\n",
        "Finallt, we can rewrite it as sum over over features (as $\\Sigma$ is diagonal matrix with $\\sigma_{iM}^2$ values):\n",
        "\n",
        "$\\gamma_M'''(x) = -\\sum_{i=1}^{D} [ln[\\sigma_{iM}] + \\frac{(x_i- \\mu_{iM})^2}{2\\sigma^2_{iM}}] $\n",
        "\n",
        "and changing notation:\n",
        "\n",
        "$\\gamma_k(x) = -\\sum_{i=1}^{D} [ln[\\sigma_{ik}] + \\frac{(x_i- \\mu_{ik})^2}{2\\sigma^2_{ik}}] $"
      ]
    },
    {
      "cell_type": "markdown",
      "metadata": {
        "id": "Sei2F2gTcqpn"
      },
      "source": [
        "#### **Learning**\n",
        "\n",
        "Having the discrimination function we need to find $\\{\\mu_{ik},  \\sigma^2_{ik}\\}$ that match provided data.\n",
        "\n",
        "To find above mentioned values we use learnig process on training data set.\n",
        "\n",
        "$ \\chi = \\{(x_i, C_i)...\\}$ \n",
        "\n",
        "Where $x_i$ is a single feature vector and $C_i$ is a class label assigned to given $x_i$.\n",
        "\n",
        "To calculate optimal $\\{\\mu_{ik},  \\sigma^2_{ik}\\}$ we need to find maximum value of the likelihood of the training set: that can be defines as following:\n",
        "\n",
        "$ P(\\chi | C_k)  = \\prod_{i=1}^{K} p(x_i | C_k)$\n",
        "\n",
        "or in log-likelihood form:\n",
        "\n",
        "$ L = log(P(\\chi | C_k)) = \\sum_{i=1}^{K} p(x_i | C_k) \\propto \\sum_{i=1}^{K} \\gamma_k(x_i) = \n",
        "-\\sum_{i=1}^{K} \\sum_{j=1}^{D} [\n",
        "  \\ln[\\sigma_{kj}] \n",
        "  + \\frac{(x_{ij}- \\mu_{ik})^2}{2\\sigma^2_{kj}}\n",
        "  ] $\n",
        "\n",
        "Where **K** is set size of \"k\" class, **D** is dimension of a feature vector.\n",
        "\n",
        "To maximise the likelihood we compare partial derivatives to 0.\n",
        "\n",
        "$\\frac{\\partial L}{\\partial \\sigma_{kl}} = \n",
        "\\sum_{i=1}^{K} [\n",
        "   \\frac{(x_{il}- \\mu_{kl})^2}{\\sigma^3_{kl}}\n",
        "  - \\frac{1}{\\sigma_{kj}}] = 0 \n",
        "  \\rightarrow \n",
        "  \\sigma_{kj}^2 = \\frac{\\sum_{i=1}^{K}(x_{il}- \\mu_{kl})^2}{K}\n",
        "  $\n",
        "\n",
        "$\\frac{\\partial L}{\\partial \\mu_{kl}} = \n",
        "\\sum_{i=1}^{K} [\n",
        "   \\frac{(x_{il}- \\mu_{kl})}{\\sigma^2_{kl}} ]= 0\n",
        "   \\rightarrow \n",
        "  \\mu_{kl} = \\frac{\\sum_{i=1}^{K}x_{il}}{K}\n",
        "  $\n",
        "\n",
        "\n"
      ]
    },
    {
      "cell_type": "markdown",
      "metadata": {
        "id": "8uEwQPXMP6pj"
      },
      "source": [
        "#### **Data agregation**"
      ]
    },
    {
      "cell_type": "code",
      "metadata": {
        "id": "44hfpcjBABbd"
      },
      "source": [
        "path_train = r'/content/drive/My Drive/Colab Notebooks/training-part-2.csv'\n",
        "path_test = r'/content/drive/My Drive/Colab Notebooks/test-part-2.csv'\n",
        "d_train, d_test = pd.read_csv(path_train), pd.read_csv(path_test)\n",
        "d_train_no_ref, d_test_no_ref = d_train[d_train.columns[:-1]], d_test[d_test.columns[:-1]]"
      ],
      "execution_count": null,
      "outputs": []
    },
    {
      "cell_type": "markdown",
      "metadata": {
        "id": "gSl5P0vPQEkJ"
      },
      "source": [
        "#### **Parameter calculation** (on training data) **& Function definition**"
      ]
    },
    {
      "cell_type": "code",
      "metadata": {
        "id": "xQb0RCJwiUnJ"
      },
      "source": [
        "mean_frown = d_train[d_train.Class == 'frown'].mean(axis=0)\n",
        "std_frown = d_train[d_train.Class == 'frown'].std(axis=0)\n",
        "mean_smile = d_train[d_train.Class == 'smile'].mean(axis=0)\n",
        "std_smile = d_train[d_train.Class == 'smile'].std(axis=0)"
      ],
      "execution_count": null,
      "outputs": []
    },
    {
      "cell_type": "code",
      "metadata": {
        "id": "9c-WanRdiiS3"
      },
      "source": [
        "def discriminant_f(data_, learned_class_mean_, learned_class_std_):\n",
        "    return -np.sum(np.log(learned_class_std_) + (data_ - learned_class_mean_)**2 / (2*learned_class_std_**2), axis=1)"
      ],
      "execution_count": null,
      "outputs": []
    },
    {
      "cell_type": "markdown",
      "metadata": {
        "id": "G4SA2RRNQVZa"
      },
      "source": [
        "#### **Verification on training & test data**"
      ]
    },
    {
      "cell_type": "code",
      "metadata": {
        "id": "Aiha46FskYii",
        "colab": {
          "base_uri": "https://localhost:8080/"
        },
        "outputId": "1691757c-9999-4f58-fe81-8cd3bec04fc8"
      },
      "source": [
        "p_frown_train = discriminant_f(d_train_no_ref, mean_frown, std_frown)\n",
        "p_smile_train = discriminant_f(d_train_no_ref, mean_smile, std_smile)\n",
        "true_posittive_train = sum((p_frown_train > p_smile_train) == (d_train.Class == 'frown'))\n",
        "print(f'train: \\ntrue positive: {true_posittive_train} / {p_frown_train.shape[0]} \\nerror rate: {(1-true_posittive_train/p_frown_train.shape[0]) * 100}%')"
      ],
      "execution_count": null,
      "outputs": [
        {
          "output_type": "stream",
          "text": [
            "train: \n",
            "true positive: 36 / 36 \n",
            "error rate: 0.0%\n"
          ],
          "name": "stdout"
        }
      ]
    },
    {
      "cell_type": "code",
      "metadata": {
        "id": "9zipycy7krGN",
        "colab": {
          "base_uri": "https://localhost:8080/"
        },
        "outputId": "36af920a-a5d6-4536-904b-4c9dfbf7cc38"
      },
      "source": [
        "p_frown_train = discriminant_f(d_test_no_ref, mean_frown, std_frown)\n",
        "p_smile_train = discriminant_f(d_test_no_ref, mean_smile, std_smile)\n",
        "true_posittive_test = sum((p_frown_test > p_smile_test) == (d_test.Class == 'frown'))\n",
        "print(f'test: \\ntrue positive: {true_posittive_test} / {p_frown_test.shape[0]} \\nerror rate: {(1-true_posittive_test/p_frown_train.shape[0]) * 100}%')"
      ],
      "execution_count": null,
      "outputs": [
        {
          "output_type": "stream",
          "text": [
            "test: \n",
            "true positive: 14 / 16 \n",
            "error rate: 12.5%\n"
          ],
          "name": "stdout"
        }
      ]
    },
    {
      "cell_type": "code",
      "metadata": {
        "id": "KqX3mmQskvuD"
      },
      "source": [
        ""
      ],
      "execution_count": null,
      "outputs": []
    },
    {
      "cell_type": "code",
      "metadata": {
        "id": "1huN6NdA6eCb"
      },
      "source": [
        ""
      ],
      "execution_count": null,
      "outputs": []
    },
    {
      "cell_type": "code",
      "metadata": {
        "id": "xuayOrl0-qC7"
      },
      "source": [
        ""
      ],
      "execution_count": null,
      "outputs": []
    },
    {
      "cell_type": "code",
      "metadata": {
        "id": "YtVp10Bt-3zk"
      },
      "source": [
        ""
      ],
      "execution_count": null,
      "outputs": []
    },
    {
      "cell_type": "code",
      "metadata": {
        "id": "eVmZyqeGI_68"
      },
      "source": [
        ""
      ],
      "execution_count": null,
      "outputs": []
    }
  ]
}